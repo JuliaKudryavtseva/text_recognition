{
 "cells": [
  {
   "cell_type": "code",
   "execution_count": 4,
   "metadata": {},
   "outputs": [
    {
     "name": "stdout",
     "output_type": "stream",
     "text": [
      "Overwriting baseline.py\n"
     ]
    }
   ],
   "source": [
    "%%writefile baseline.py\n",
    "from utils.datasets.dataset import get_dataloaders\n",
    "from model.model import CRNN\n",
    "from utils.train_model import training\n",
    "from utils.validation import eval_model\n",
    "\n",
    "import torch\n",
    "import wandb\n",
    "\n",
    "import warnings\n",
    "warnings.filterwarnings('ignore')\n",
    "\n",
    "\n",
    "config = {\n",
    "    'name'      : 'baseline',\n",
    "\n",
    "\n",
    "    'num_epochs': 10,\n",
    "    'batch_size': 64,\n",
    "    'device'    : 'cuda:0',\n",
    "\n",
    "    'checkpoint': False,\n",
    "    'save_path' : 'checkpoints',\n",
    "    'log'       : True,\n",
    "}\n",
    "\n",
    "\n",
    "\n",
    "if __name__ == '__main__':\n",
    "\n",
    "    if config['log']:\n",
    "        wandb.login(key=\"cfedead01b64744b86b1cc0779b5ab7c10fc942f\")\n",
    "\n",
    "        wandb.init(\n",
    "            project=\"ML3_HW3\",\n",
    "            name=config['name'],\n",
    "            reinit=True,\n",
    "            config=config,\n",
    "        )\n",
    "\n",
    "    train_dataloader, val_dataloader, test_dataloader = get_dataloaders(BATCH_SIZE=config['batch_size'], train_ratio=0.9)\n",
    "\n",
    "    model = CRNN()\n",
    "    model.to(config['device'])\n",
    "\n",
    "    optimizer = torch.optim.Adam(model.parameters(), lr=3e-4, amsgrad=True, weight_decay=1e-4)\n",
    "\n",
    "    training(model, config, train_dataloader, val_dataloader, optimizer, config['log'])\n",
    "    eval_model(model, config, test_dataloader, test=True, log=False)\n",
    "    if config['log']:\n",
    "        wandb.finish()\n",
    "\n",
    "    print('FINISH')"
   ]
  },
  {
   "cell_type": "code",
   "execution_count": 3,
   "metadata": {},
   "outputs": [
    {
     "name": "stdout",
     "output_type": "stream",
     "text": [
      "Writing baseline_20_epoch.py\n"
     ]
    }
   ],
   "source": [
    "%%writefile baseline_20_epoch.py\n",
    "from utils.datasets.dataset import get_dataloaders\n",
    "from model.model import CRNN\n",
    "from utils.train_model import training\n",
    "from utils.validation import eval_model\n",
    "\n",
    "import torch\n",
    "import wandb\n",
    "\n",
    "import warnings\n",
    "warnings.filterwarnings('ignore')\n",
    "\n",
    "\n",
    "config = {\n",
    "    'name'      : 'baseline_20_epoch',\n",
    "\n",
    "\n",
    "    'num_epochs': 20,\n",
    "    'batch_size': 64,\n",
    "    'device'    : 'cuda:0',\n",
    "\n",
    "    'checkpoint': False,\n",
    "    'save_path' : 'checkpoints',\n",
    "    'log'       : True,\n",
    "}\n",
    "\n",
    "\n",
    "\n",
    "if __name__ == '__main__':\n",
    "\n",
    "    if config['log']:\n",
    "        wandb.login(key=\"cfedead01b64744b86b1cc0779b5ab7c10fc942f\")\n",
    "\n",
    "        wandb.init(\n",
    "            project=\"ML3_HW3\",\n",
    "            name=config['name'],\n",
    "            reinit=True,\n",
    "            config=config,\n",
    "        )\n",
    "\n",
    "    train_dataloader, val_dataloader, test_dataloader = get_dataloaders(BATCH_SIZE=config['batch_size'], train_ratio=0.9)\n",
    "\n",
    "    model = CRNN()\n",
    "    model.to(config['device'])\n",
    "\n",
    "    optimizer = torch.optim.Adam(model.parameters(), lr=3e-4, amsgrad=True, weight_decay=1e-4)\n",
    "\n",
    "    training(model, config, train_dataloader, val_dataloader, optimizer, config['log'])\n",
    "    eval_model(model, config, test_dataloader, test=True, log=False)\n",
    "    if config['log']:\n",
    "        wandb.finish()\n",
    "\n",
    "    print('FINISH')"
   ]
  },
  {
   "cell_type": "code",
   "execution_count": null,
   "metadata": {},
   "outputs": [],
   "source": []
  }
 ],
 "metadata": {
  "kernelspec": {
   "display_name": "work",
   "language": "python",
   "name": "python3"
  },
  "language_info": {
   "codemirror_mode": {
    "name": "ipython",
    "version": 3
   },
   "file_extension": ".py",
   "mimetype": "text/x-python",
   "name": "python",
   "nbconvert_exporter": "python",
   "pygments_lexer": "ipython3",
   "version": "3.8.18"
  }
 },
 "nbformat": 4,
 "nbformat_minor": 2
}
