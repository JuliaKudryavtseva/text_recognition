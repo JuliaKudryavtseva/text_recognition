{
 "cells": [
  {
   "cell_type": "code",
   "execution_count": 19,
   "metadata": {},
   "outputs": [
    {
     "name": "stdout",
     "output_type": "stream",
     "text": [
      "Overwriting baseline.py\n"
     ]
    }
   ],
   "source": [
    "%%writefile baseline.py\n",
    "from utils.datasets.dataset import get_dataloaders\n",
    "from model.model import CRNN\n",
    "from utils.train_model import training, load_checkpoint\n",
    "from utils.validation import eval_model\n",
    "\n",
    "import torch\n",
    "import wandb\n",
    "import os\n",
    "\n",
    "import warnings\n",
    "warnings.filterwarnings('ignore')\n",
    "\n",
    "\n",
    "config = {\n",
    "    'name'      : 'baseline',\n",
    "\n",
    "\n",
    "    'num_epochs': 10,\n",
    "    'batch_size': 64,\n",
    "    'device'    : 'cuda:0',\n",
    "\n",
    "    'checkpoint': False,\n",
    "    'save_path' : 'checkpoints',\n",
    "    'log'       : False,\n",
    "}\n",
    "\n",
    "\n",
    "\n",
    "if __name__ == '__main__':\n",
    "\n",
    "    if config['log']:\n",
    "        wandb.login(key=\"cfedead01b64744b86b1cc0779b5ab7c10fc942f\")\n",
    "\n",
    "        wandb.init(\n",
    "            project=\"ML3_HW3\",\n",
    "            name=config['name'],\n",
    "            reinit=True,\n",
    "            config=config,\n",
    "        )\n",
    "\n",
    "    train_dataloader, val_dataloader, test_dataloader = get_dataloaders(BATCH_SIZE=config['batch_size'], train_ratio=0.7)\n",
    "\n",
    "    model = CRNN()\n",
    "    model.to(config['device'])\n",
    "\n",
    "    optimizer = torch.optim.Adam(model.parameters(), lr=3e-4, amsgrad=True, weight_decay=1e-4)\n",
    "\n",
    "    training(model, config, train_dataloader, val_dataloader, optimizer, config['log'])\n",
    "\n",
    "    # make predictions\n",
    "    del model\n",
    "    model = CRNN()\n",
    "    name = config['name']\n",
    "    load_checkpoint(model, os.path.join(config['save_path'], f'{name}.pth'))\n",
    "    model.to(config['device'])\n",
    "    eval_model(model, config, test_dataloader, test=True, log=False)\n",
    "\n",
    "    if config['log']:\n",
    "        wandb.finish()\n",
    "\n",
    "    print('FINISH')"
   ]
  },
  {
   "cell_type": "code",
   "execution_count": 25,
   "metadata": {},
   "outputs": [
    {
     "name": "stdout",
     "output_type": "stream",
     "text": [
      "Overwriting baseline_20_epoch.py\n"
     ]
    }
   ],
   "source": [
    "%%writefile baseline_20_epoch.py\n",
    "from utils.datasets.dataset import get_dataloaders\n",
    "from model.model import CRNN\n",
    "from utils.train_model import training, load_checkpoint\n",
    "from utils.validation import eval_model\n",
    "\n",
    "import torch\n",
    "import wandb\n",
    "import os\n",
    "\n",
    "import warnings\n",
    "warnings.filterwarnings('ignore')\n",
    "\n",
    "\n",
    "config = {\n",
    "    'name'      : 'baseline',\n",
    "\n",
    "\n",
    "    'num_epochs': 20,\n",
    "    'batch_size': 16,\n",
    "    'device'    : 'cuda:0',\n",
    "\n",
    "    'checkpoint': False,\n",
    "    'save_path' : 'checkpoints',\n",
    "    'log'       : True,\n",
    "\n",
    "    'weight_decay': 1e-3\n",
    "}\n",
    "\n",
    "\n",
    "\n",
    "if __name__ == '__main__':\n",
    "\n",
    "    if config['log']:\n",
    "        wandb.login(key=\"cfedead01b64744b86b1cc0779b5ab7c10fc942f\")\n",
    "\n",
    "        wandb.init(\n",
    "            project=\"ML3_HW3\",\n",
    "            name=config['name'],\n",
    "            reinit=True,\n",
    "            config=config,\n",
    "        )\n",
    "\n",
    "    train_dataloader, val_dataloader, test_dataloader = get_dataloaders(BATCH_SIZE=config['batch_size'], train_ratio=0.9)\n",
    "\n",
    "    model = CRNN()\n",
    "    model.to(config['device'])\n",
    "\n",
    "    optimizer = torch.optim.Adam(model.parameters(), lr=3e-4, amsgrad=True, weight_decay=config['weight_decay'])\n",
    "\n",
    "    training(model, config, train_dataloader, val_dataloader, optimizer, config['log'])\n",
    "\n",
    "    # make predictions\n",
    "    del model\n",
    "    model = CRNN()\n",
    "    name = config['name']\n",
    "    load_checkpoint(model, os.path.join(config['save_path'], f'{name}.pth'))\n",
    "    model.to(config['device'])\n",
    "    eval_model(model, config, test_dataloader, test=True, log=False)\n",
    "\n",
    "    if config['log']:\n",
    "        wandb.finish()\n",
    "\n",
    "    print('FINISH')"
   ]
  },
  {
   "cell_type": "code",
   "execution_count": 23,
   "metadata": {},
   "outputs": [
    {
     "data": {
      "text/plain": [
       "0.3000488878024933"
      ]
     },
     "execution_count": 23,
     "metadata": {},
     "output_type": "execute_result"
    }
   ],
   "source": [
    "7365/(7365 + 17181)"
   ]
  },
  {
   "cell_type": "code",
   "execution_count": null,
   "metadata": {},
   "outputs": [],
   "source": []
  }
 ],
 "metadata": {
  "kernelspec": {
   "display_name": "work",
   "language": "python",
   "name": "python3"
  },
  "language_info": {
   "codemirror_mode": {
    "name": "ipython",
    "version": 3
   },
   "file_extension": ".py",
   "mimetype": "text/x-python",
   "name": "python",
   "nbconvert_exporter": "python",
   "pygments_lexer": "ipython3",
   "version": "3.8.18"
  }
 },
 "nbformat": 4,
 "nbformat_minor": 2
}
